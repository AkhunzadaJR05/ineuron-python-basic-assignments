{
 "cells": [
  {
   "cell_type": "markdown",
   "id": "77cf0719",
   "metadata": {},
   "source": [
    "# 1.\tWrite a Python program to convert kilometers to miles?"
   ]
  },
  {
   "cell_type": "code",
   "execution_count": 4,
   "id": "e347efdd",
   "metadata": {},
   "outputs": [
    {
     "name": "stdout",
     "output_type": "stream",
     "text": [
      "Enter value in kilometers: 5\n",
      "5.0  kilometers in miles is  3.107520198881293\n"
     ]
    }
   ],
   "source": [
    "km = float(input(\"Enter value in kilometers: \"))\n",
    "miles = km / 1.609\n",
    "print(km, \" kilometers in miles is \", miles)"
   ]
  },
  {
   "cell_type": "markdown",
   "id": "998af734",
   "metadata": {},
   "source": [
    "# 2.\tWrite a Python program to convert Celsius to Fahrenheit?"
   ]
  },
  {
   "cell_type": "code",
   "execution_count": 7,
   "id": "83d61091",
   "metadata": {},
   "outputs": [
    {
     "name": "stdout",
     "output_type": "stream",
     "text": [
      "Enter the degrees in celcius: 37\n",
      "37.0  celcius in fahrenheit are:  98.6\n"
     ]
    }
   ],
   "source": [
    "cel = float(input(\"Enter the degrees in celcius: \"))\n",
    "fah = (cel * 9/5) + 32\n",
    "print(cel, \" celcius in fahrenheit are: \", fah)"
   ]
  },
  {
   "cell_type": "markdown",
   "id": "5d6b8d1c",
   "metadata": {},
   "source": [
    "# 3.\tWrite a Python program to display calendar?"
   ]
  },
  {
   "cell_type": "code",
   "execution_count": 11,
   "id": "49f54cc8",
   "metadata": {},
   "outputs": [
    {
     "name": "stdout",
     "output_type": "stream",
     "text": [
      "Enter year: 2024\n",
      "Enter month: 7\n",
      "     July 2024\n",
      "Mo Tu We Th Fr Sa Su\n",
      " 1  2  3  4  5  6  7\n",
      " 8  9 10 11 12 13 14\n",
      "15 16 17 18 19 20 21\n",
      "22 23 24 25 26 27 28\n",
      "29 30 31\n",
      "\n"
     ]
    }
   ],
   "source": [
    "import calendar\n",
    "\n",
    "yy = int(input(\"Enter year: \"))\n",
    "mm = int(input(\"Enter month: \"))\n",
    "\n",
    "print(calendar.month(yy, mm))\n"
   ]
  },
  {
   "cell_type": "markdown",
   "id": "7a9868f0",
   "metadata": {},
   "source": [
    "# 4.\tWrite a Python program to solve quadratic equation?"
   ]
  },
  {
   "cell_type": "code",
   "execution_count": 14,
   "id": "c985f9ae",
   "metadata": {},
   "outputs": [
    {
     "name": "stdout",
     "output_type": "stream",
     "text": [
      "Enter the value of a: 4\n",
      "Enter the value of b: 5\n",
      "Enter the value of c: 3\n",
      "solution 1  -8.0\n",
      "solution 2  -12.0\n"
     ]
    }
   ],
   "source": [
    "import math\n",
    "\n",
    "a = int(input(\"Enter the value of a: \"))\n",
    "b = int(input(\"Enter the value of b: \"))\n",
    "c = int(input(\"Enter the value of c: \"))\n",
    "\n",
    "det = (b**2) - (2*a*c)\n",
    "\n",
    "sol1 = (-b + math.sqrt(det)) / 2*a\n",
    "sol2 = (-b - math.sqrt(det)) / 2*a\n",
    "\n",
    "print(\"solution 1 \", sol1)\n",
    "print(\"solution 2 \", sol2)"
   ]
  },
  {
   "cell_type": "markdown",
   "id": "4fe623d4",
   "metadata": {},
   "source": [
    "# 5.\tWrite a Python program to swap two variables without temp variable?"
   ]
  },
  {
   "cell_type": "code",
   "execution_count": 18,
   "id": "71d40f70",
   "metadata": {},
   "outputs": [
    {
     "name": "stdout",
     "output_type": "stream",
     "text": [
      "Before Swappinng\n",
      "2 3 \n",
      "\n",
      "After Swapping\n",
      "3 2\n"
     ]
    }
   ],
   "source": [
    "a = 2\n",
    "b = 3\n",
    "\n",
    "print(\"Before Swappinng\")\n",
    "print(a, b, \"\\n\")\n",
    "\n",
    "a = a + b\n",
    "b = a - b\n",
    "a = a - b\n",
    "\n",
    "print(\"After Swapping\")\n",
    "print(a, b)"
   ]
  },
  {
   "cell_type": "code",
   "execution_count": null,
   "id": "2e3ef484",
   "metadata": {},
   "outputs": [],
   "source": []
  }
 ],
 "metadata": {
  "kernelspec": {
   "display_name": "Python 3 (ipykernel)",
   "language": "python",
   "name": "python3"
  },
  "language_info": {
   "codemirror_mode": {
    "name": "ipython",
    "version": 3
   },
   "file_extension": ".py",
   "mimetype": "text/x-python",
   "name": "python",
   "nbconvert_exporter": "python",
   "pygments_lexer": "ipython3",
   "version": "3.11.5"
  }
 },
 "nbformat": 4,
 "nbformat_minor": 5
}
