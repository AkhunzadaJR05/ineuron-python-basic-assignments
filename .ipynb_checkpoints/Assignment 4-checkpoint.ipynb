{
 "cells": [
  {
   "cell_type": "markdown",
   "id": "ddbbd30b",
   "metadata": {},
   "source": [
    "# 1.\tWrite a Python Program to Find the Factorial of a Number?"
   ]
  },
  {
   "cell_type": "code",
   "execution_count": 3,
   "id": "6f3c36dd",
   "metadata": {},
   "outputs": [
    {
     "name": "stdout",
     "output_type": "stream",
     "text": [
      "Enter the number: 5\n",
      "Factorial of 5 is  120\n"
     ]
    }
   ],
   "source": [
    "num = int(input(\"Enter the number: \"))\n",
    "fact = 1\n",
    "\n",
    "for i in range(num, 0, -1):\n",
    "    fact = i * fact\n",
    "print(\"Factorial of {0} is \".format(num), fact)"
   ]
  },
  {
   "cell_type": "markdown",
   "id": "73bc5949",
   "metadata": {},
   "source": [
    "# 2.\tWrite a Python Program to Display the multiplication Table?"
   ]
  },
  {
   "cell_type": "code",
   "execution_count": 2,
   "id": "0df72a4d",
   "metadata": {},
   "outputs": [
    {
     "name": "stdout",
     "output_type": "stream",
     "text": [
      "Enter the number: 2\n",
      "Enter the upper bound number to which you want the table: 10\n",
      "2 x 1 = 2\n",
      "2 x 2 = 4\n",
      "2 x 3 = 6\n",
      "2 x 4 = 8\n",
      "2 x 5 = 10\n",
      "2 x 6 = 12\n",
      "2 x 7 = 14\n",
      "2 x 8 = 16\n",
      "2 x 9 = 18\n",
      "2 x 10 = 20\n"
     ]
    }
   ],
   "source": [
    "num = int(input(\"Enter the number: \"))\n",
    "num1 = int(input(\"Enter the upper bound number to which you want the table: \"))\n",
    "for i in range(1, num1+1):\n",
    "    mult = i * num\n",
    "    print(\"{0} x {1} = {2}\".format(num, i, mult))"
   ]
  },
  {
   "cell_type": "markdown",
   "id": "9e907c58",
   "metadata": {},
   "source": [
    "# 3.\tWrite a Python Program to Print the Fibonacci sequence?"
   ]
  },
  {
   "cell_type": "code",
   "execution_count": 4,
   "id": "86797091",
   "metadata": {},
   "outputs": [
    {
     "name": "stdout",
     "output_type": "stream",
     "text": [
      "Enter the number of terms: 5\n",
      "0\n",
      "1\n",
      "1\n",
      "2\n",
      "3\n"
     ]
    }
   ],
   "source": [
    "term = int(input(\"Enter the number of terms: \"))\n",
    "firstTerm = 0\n",
    "secondTerm = 1\n",
    "nextTerm = firstTerm + secondTerm\n",
    "print(firstTerm)\n",
    "print(secondTerm)\n",
    "\n",
    "for i in range(3, term+1):\n",
    "    print(nextTerm)\n",
    "    firstTerm = secondTerm\n",
    "    secondTerm = nextTerm\n",
    "    nextTerm = firstTerm + secondTerm"
   ]
  },
  {
   "cell_type": "markdown",
   "id": "7842f9d3",
   "metadata": {},
   "source": [
    "# 4.\tWrite a Python Program to Check Armstrong Number?"
   ]
  },
  {
   "cell_type": "code",
   "execution_count": 4,
   "id": "65b80875",
   "metadata": {},
   "outputs": [
    {
     "name": "stdout",
     "output_type": "stream",
     "text": [
      "Enter a number: 153\n",
      "153 is an armstrong number.\n"
     ]
    }
   ],
   "source": [
    "num = int(input(\"Enter a number: \"))\n",
    "count = 0\n",
    "numStr = str(num)\n",
    "total = 0\n",
    "\n",
    "for i in range(0, len(numStr)):\n",
    "    count = count + 1\n",
    "    \n",
    "for i in range(0, len(numStr)):\n",
    "    prod = 1\n",
    "    temp = int(numStr[i])\n",
    "    for j in range(1, count+1):\n",
    "        prod = temp * prod\n",
    "    \n",
    "    total = total + prod\n",
    "if num == total:\n",
    "    print(\"{0} is an armstrong number.\".format(num))\n",
    "else:\n",
    "    print(\"{0} is not an armstrong number.\".format(num))\n",
    "    "
   ]
  },
  {
   "cell_type": "markdown",
   "id": "b7263bc8",
   "metadata": {},
   "source": [
    "# 4. Write a Python Proram to Check Armstrong Number? (Second Solution)"
   ]
  },
  {
   "cell_type": "code",
   "execution_count": null,
   "id": "de806752",
   "metadata": {},
   "outputs": [],
   "source": [
    "num = int(input(\"Enter a number: \"))\n",
    "numStr = str(num)\n",
    "count = len(numStr)\n",
    "total = 0\n",
    "\n",
    "for digit in numStr:\n",
    "    total += int(digit) ** count\n",
    "\n",
    "if num == total:\n",
    "    print(\"{0} is an Armstrong number.\".format(num))\n",
    "else:\n",
    "    print(\"{0} is not an Armstrong number.\".format(num))\n"
   ]
  },
  {
   "cell_type": "markdown",
   "id": "817e0cc7",
   "metadata": {},
   "source": [
    "# 5.\tWrite a Python Program to Find Armstrong Number in an Interval?"
   ]
  },
  {
   "cell_type": "code",
   "execution_count": 15,
   "id": "fa46fe30",
   "metadata": {},
   "outputs": [
    {
     "name": "stdout",
     "output_type": "stream",
     "text": [
      "Enter the lower interval: 1\n",
      "Enter the upper interval: 500\n",
      "1 is an Armstrong number.\n",
      "2 is an Armstrong number.\n",
      "3 is an Armstrong number.\n",
      "4 is an Armstrong number.\n",
      "5 is an Armstrong number.\n",
      "6 is an Armstrong number.\n",
      "7 is an Armstrong number.\n",
      "8 is an Armstrong number.\n",
      "9 is an Armstrong number.\n",
      "153 is an Armstrong number.\n",
      "370 is an Armstrong number.\n",
      "371 is an Armstrong number.\n",
      "407 is an Armstrong number.\n"
     ]
    }
   ],
   "source": [
    "LowerBound = int(input(\"Enter the lower interval: \"))\n",
    "UpperBound = int(input(\"Enter the upper interval: \"))\n",
    "\n",
    "for i in range(LowerBound, UpperBound + 1):\n",
    "    numStr = str(i)\n",
    "    numDigits = len(numStr)\n",
    "    total = 0\n",
    "    for digit in numStr:\n",
    "        total += int(digit) ** numDigits\n",
    "    if i == total:\n",
    "        print(\"{0} is an Armstrong number.\".format(i))\n",
    "#     else:\n",
    "#         print(\"{0} is not an Armstrong number.\".format(i))\n"
   ]
  },
  {
   "cell_type": "markdown",
   "id": "a339cb75",
   "metadata": {},
   "source": [
    "# 6.\tWrite a Python Program to Find the Sum of Natural Numbers?"
   ]
  },
  {
   "cell_type": "code",
   "execution_count": 16,
   "id": "6ed1f1fe",
   "metadata": {},
   "outputs": [
    {
     "name": "stdout",
     "output_type": "stream",
     "text": [
      "Enter the range till which you want sum of Natural Numbers: 10\n",
      "55 is the sum of 10 natural numbers.\n"
     ]
    }
   ],
   "source": [
    "nat = int(input(\"Enter the range till which you want sum of Natural Numbers: \"))\n",
    "counter = 0\n",
    "\n",
    "for i in range(1, nat + 1):\n",
    "    counter = counter + i\n",
    "print(\"{0} is the sum of {1} natural numbers.\".format(counter, nat))"
   ]
  },
  {
   "cell_type": "code",
   "execution_count": null,
   "id": "cb0c71d7",
   "metadata": {},
   "outputs": [],
   "source": []
  }
 ],
 "metadata": {
  "kernelspec": {
   "display_name": "Python 3 (ipykernel)",
   "language": "python",
   "name": "python3"
  },
  "language_info": {
   "codemirror_mode": {
    "name": "ipython",
    "version": 3
   },
   "file_extension": ".py",
   "mimetype": "text/x-python",
   "name": "python",
   "nbconvert_exporter": "python",
   "pygments_lexer": "ipython3",
   "version": "3.11.5"
  }
 },
 "nbformat": 4,
 "nbformat_minor": 5
}
